{
 "cells": [
  {
   "cell_type": "code",
   "execution_count": 1,
   "metadata": {},
   "outputs": [],
   "source": [
    "import pandas as pd, pyodbc"
   ]
  },
  {
   "cell_type": "code",
   "execution_count": 2,
   "metadata": {},
   "outputs": [],
   "source": [
    "conn_prod = pyodbc.connect('Driver={SQL Server}; Server=10.241.109.41,20010\\\\OASYSHDB;Database=EPSA_Reporting;UID=epsareportes; PWD=Epsa.2020!;')\n",
    "conn_dev = pyodbc.connect('Driver={SQL Server}; Server=10.241.114.12,20010\\\\OASYSHDB;Database=ADMS_QueryEngine;UID=Epsareportes; PWD=cmXoasys2;')\n"
   ]
  },
  {
   "cell_type": "code",
   "execution_count": 24,
   "metadata": {},
   "outputs": [],
   "source": [
    "analog_prod = pd.read_sql_query(\"select name, customID,powerResource,gid from ADMS_QueryEngine.dms.AnalogSignal where name like '%_CT-%'\",conn_dev, coerce_float=False)\n",
    "CT_Breaker = pd.read_sql_query('''select CT.name as CurrentTransformer_Name, CT.container as BayGid, CT.gid as CurrentTransformerGid, Br.gid as BreakerGid, Br.aorGroup as BreakerAorGroup from ADMS_QueryEngine.dms.CurrentTransformer as CT\n",
    "    join ADMS_QueryEngine.dms.Bay as B ON B.gid = CT.container \n",
    "    join ADMS_QueryEngine.dms.BReaker as Br on Br.container = B.gid\n",
    "    union \n",
    "    select CT.name as CurrentTransformer_Name, CT.container as BayGid, CT.gid as CurrentTransformerGid, Br.gid as BreakerGid, Br.aorGroup from ADMS_QueryEngine.dms.CurrentTransformer as CT\n",
    "    join ADMS_QueryEngine.dms.Bay as B ON B.gid = CT.container\n",
    "    join ADMS_QueryEngine.dms.PortableCell as R on R.parentContainer = B.gid \n",
    "    join ADMS_QueryEngine.dms.BReaker as Br on Br.container = R.gid\n",
    "\n",
    "    ''',conn_dev, coerce_float=False)"
   ]
  },
  {
   "cell_type": "code",
   "execution_count": 25,
   "metadata": {},
   "outputs": [],
   "source": [
    "CT_Breaker_merged = CT_Breaker.merge(analog_prod,left_on='CurrentTransformerGid', right_on='powerResource', how='inner')[['CurrentTransformerGid','BreakerGid','BreakerAorGroup']].drop_duplicates()"
   ]
  },
  {
   "cell_type": "code",
   "execution_count": 26,
   "metadata": {},
   "outputs": [],
   "source": [
    "template = \"\"\"  <Script>\n",
    "    <Name>{}</Name>\n",
    "    <Description />\n",
    "    <Resource>1734167331516776448</Resource>\n",
    "    <Properties>\n",
    "      <UpdateProperty>\n",
    "        <PropertyID>1729382256910271497</PropertyID>\n",
    "        <Operation>{}</Operation>\n",
    "        <ReferencedResource />\n",
    "      </UpdateProperty>\n",
    "      <UpdateProperty>\n",
    "        <PropertyID>1152921504606850057</PropertyID>\n",
    "        <Operation>{}</Operation>\n",
    "        <ReferencedResource />\n",
    "      </UpdateProperty>\n",
    "    </Properties>\n",
    "    <Where>[Power Resource] = {}</Where>\n",
    "    <Action>Update</Action>\n",
    "    <TimeOfCreated>16:18:58 01/06/2022</TimeOfCreated>\n",
    "  </Script>\"\"\""
   ]
  },
  {
   "cell_type": "code",
   "execution_count": 27,
   "metadata": {},
   "outputs": [],
   "source": [
    "body = \"\"\"<?xml version=\"1.0\" encoding=\"utf-8\"?>\n",
    "<ArrayOfScript xmlns:xsd=\"http://www.w3.org/2001/XMLSchema\" xmlns:xsi=\"http://www.w3.org/2001/XMLSchema-instance\">\"\"\"\n",
    "for i,x in CT_Breaker_merged.iterrows():\n",
    "    body = body + '\\n'+ template.format('.',x.BreakerGid, x.BreakerAorGroup,x.CurrentTransformerGid)\n",
    "body = body + '\\n'+ '</ArrayOfScript>'"
   ]
  },
  {
   "cell_type": "code",
   "execution_count": 28,
   "metadata": {},
   "outputs": [],
   "source": [
    "with open('.\\CT2Breaker.xml', 'w+') as xmlFile:\n",
    "    xmlFile.write(body)\n",
    "    xmlFile.close()"
   ]
  },
  {
   "cell_type": "code",
   "execution_count": 23,
   "metadata": {},
   "outputs": [],
   "source": [
    "CT_Breaker_merged.to_csv('CT2Breaker.csv',index = False)"
   ]
  },
  {
   "cell_type": "code",
   "execution_count": 16,
   "metadata": {},
   "outputs": [
    {
     "data": {
      "text/html": [
       "<div>\n",
       "<style scoped>\n",
       "    .dataframe tbody tr th:only-of-type {\n",
       "        vertical-align: middle;\n",
       "    }\n",
       "\n",
       "    .dataframe tbody tr th {\n",
       "        vertical-align: top;\n",
       "    }\n",
       "\n",
       "    .dataframe thead th {\n",
       "        text-align: right;\n",
       "    }\n",
       "</style>\n",
       "<table border=\"1\" class=\"dataframe\">\n",
       "  <thead>\n",
       "    <tr style=\"text-align: right;\">\n",
       "      <th></th>\n",
       "      <th>CurrentTransformerGid</th>\n",
       "      <th>BreakerGid</th>\n",
       "      <th>BreakerAorGroup</th>\n",
       "    </tr>\n",
       "  </thead>\n",
       "  <tbody>\n",
       "    <tr>\n",
       "      <th>0</th>\n",
       "      <td>288793450659568688</td>\n",
       "      <td>288793682587818039</td>\n",
       "      <td>289075213398705518</td>\n",
       "    </tr>\n",
       "    <tr>\n",
       "      <th>6</th>\n",
       "      <td>288793450659568732</td>\n",
       "      <td>288793682587818095</td>\n",
       "      <td>289075213398705518</td>\n",
       "    </tr>\n",
       "    <tr>\n",
       "      <th>12</th>\n",
       "      <td>288793450659568731</td>\n",
       "      <td>288793682587818094</td>\n",
       "      <td>289075213398705518</td>\n",
       "    </tr>\n",
       "    <tr>\n",
       "      <th>18</th>\n",
       "      <td>288793450659568725</td>\n",
       "      <td>288793682587818090</td>\n",
       "      <td>289075213398705518</td>\n",
       "    </tr>\n",
       "    <tr>\n",
       "      <th>24</th>\n",
       "      <td>288793450659568893</td>\n",
       "      <td>288793682587818393</td>\n",
       "      <td>292171438142522582</td>\n",
       "    </tr>\n",
       "    <tr>\n",
       "      <th>...</th>\n",
       "      <td>...</td>\n",
       "      <td>...</td>\n",
       "      <td>...</td>\n",
       "    </tr>\n",
       "    <tr>\n",
       "      <th>12164</th>\n",
       "      <td>288793450659569191</td>\n",
       "      <td>288793682587818799</td>\n",
       "      <td>292171438142522533</td>\n",
       "    </tr>\n",
       "    <tr>\n",
       "      <th>12167</th>\n",
       "      <td>288793450659569478</td>\n",
       "      <td>288793682587819120</td>\n",
       "      <td>1311110853835097231</td>\n",
       "    </tr>\n",
       "    <tr>\n",
       "      <th>12172</th>\n",
       "      <td>288793450659569098</td>\n",
       "      <td>288793682587818704</td>\n",
       "      <td>292171438142522544</td>\n",
       "    </tr>\n",
       "    <tr>\n",
       "      <th>12174</th>\n",
       "      <td>288793450659568370</td>\n",
       "      <td>288793682587817514</td>\n",
       "      <td>289075213398705530</td>\n",
       "    </tr>\n",
       "    <tr>\n",
       "      <th>12178</th>\n",
       "      <td>291608200426674594</td>\n",
       "      <td>289638107517948963</td>\n",
       "      <td>292171438142522529</td>\n",
       "    </tr>\n",
       "  </tbody>\n",
       "</table>\n",
       "<p>2004 rows × 3 columns</p>\n",
       "</div>"
      ],
      "text/plain": [
       "      CurrentTransformerGid          BreakerGid      BreakerAorGroup\n",
       "0        288793450659568688  288793682587818039   289075213398705518\n",
       "6        288793450659568732  288793682587818095   289075213398705518\n",
       "12       288793450659568731  288793682587818094   289075213398705518\n",
       "18       288793450659568725  288793682587818090   289075213398705518\n",
       "24       288793450659568893  288793682587818393   292171438142522582\n",
       "...                     ...                 ...                  ...\n",
       "12164    288793450659569191  288793682587818799   292171438142522533\n",
       "12167    288793450659569478  288793682587819120  1311110853835097231\n",
       "12172    288793450659569098  288793682587818704   292171438142522544\n",
       "12174    288793450659568370  288793682587817514   289075213398705530\n",
       "12178    291608200426674594  289638107517948963   292171438142522529\n",
       "\n",
       "[2004 rows x 3 columns]"
      ]
     },
     "execution_count": 16,
     "metadata": {},
     "output_type": "execute_result"
    }
   ],
   "source": [
    "CT_Breaker_merged"
   ]
  },
  {
   "cell_type": "code",
   "execution_count": null,
   "metadata": {},
   "outputs": [],
   "source": []
  }
 ],
 "metadata": {
  "interpreter": {
   "hash": "893630ece985437a4d09eac5a1997315286d44e415eee02814b32317a12ecdc6"
  },
  "kernelspec": {
   "display_name": "Python 3.8.3 ('base')",
   "language": "python",
   "name": "python3"
  },
  "language_info": {
   "codemirror_mode": {
    "name": "ipython",
    "version": 3
   },
   "file_extension": ".py",
   "mimetype": "text/x-python",
   "name": "python",
   "nbconvert_exporter": "python",
   "pygments_lexer": "ipython3",
   "version": "3.8.3"
  },
  "orig_nbformat": 4
 },
 "nbformat": 4,
 "nbformat_minor": 2
}
