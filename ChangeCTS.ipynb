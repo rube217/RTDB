{
 "cells": [
  {
   "cell_type": "code",
   "execution_count": 1,
   "metadata": {},
   "outputs": [],
   "source": [
    "import pandas as pd, pyodbc"
   ]
  },
  {
   "cell_type": "code",
   "execution_count": 2,
   "metadata": {},
   "outputs": [],
   "source": [
    "conn_prod = pyodbc.connect('Driver={SQL Server}; Server=10.241.109.41,20010\\\\OASYSHDB;Database=EPSA_Reporting;UID=epsareportes; PWD=Epsa.2020!;')\n",
    "conn_dev = pyodbc.connect('Driver={SQL Server}; Server=10.241.114.12,20010\\\\OASYSHDB;Database=ADMS_QueryEngine;UID=Epsareportes; PWD=cmXoasys2;')"
   ]
  },
  {
   "cell_type": "code",
   "execution_count": 17,
   "metadata": {},
   "outputs": [],
   "source": [
    "analog_prod = pd.read_sql_query(\"select name, customID,powerResource,gid from ADMS_QueryEngine.dms.AnalogSignal where name like '%_CT-%'\",conn_dev, coerce_float=False)\n",
    "CT_Breaker = pd.read_sql_query('''select\tCT.name as CurrentTransformer_Name, CT.container as BayGid, CT.gid as CurrentTransformerGid, Br.gid as BreakerGid, Br.aorGroup as BreakerAorGroup, CT.aorGroup as CurrentTransformerAorGroup,\n",
    "\t\t[Transmision] = (select TN.gid from dms.TransmissionNetwork as TN JOIN DMS.Substation as S on S.parentContainer = TN.gid where B.parentContainer = S.gid)\n",
    "\t\t from ADMS_QueryEngine.dms.CurrentTransformer as CT\n",
    "    join ADMS_QueryEngine.dms.Bay as B ON B.gid = CT.container \n",
    "    join ADMS_QueryEngine.dms.BReaker as Br on Br.container = B.gid\n",
    "    union \n",
    "    select\tCT.name as CurrentTransformer_Name, CT.container as BayGid, CT.gid as CurrentTransformerGid, Br.gid as BreakerGid, Br.aorGroup, CT.aorGroup,\n",
    "\t\t\t[Transmision] = (select TN.gid from dms.TransmissionNetwork as TN JOIN DMS.Substation as S on S.parentContainer = TN.gid where B.parentContainer = S.gid)\n",
    "\t\t from ADMS_QueryEngine.dms.CurrentTransformer as CT\n",
    "    join ADMS_QueryEngine.dms.Bay as B ON B.gid = CT.container\n",
    "    join ADMS_QueryEngine.dms.PortableCell as R on R.parentContainer = B.gid \n",
    "    join ADMS_QueryEngine.dms.BReaker as Br on Br.container = R.gid\n",
    "\n",
    "    ''',conn_dev, coerce_float=False)"
   ]
  },
  {
   "cell_type": "code",
   "execution_count": 18,
   "metadata": {},
   "outputs": [],
   "source": [
    "CT_Breaker_merged = CT_Breaker[CT_Breaker.Transmision.notnull()].merge(analog_prod,left_on='BreakerGid', right_on='powerResource', how='inner')[['CurrentTransformerGid','BreakerGid','CurrentTransformerAorGroup']].drop_duplicates()"
   ]
  },
  {
   "cell_type": "code",
   "execution_count": 13,
   "metadata": {},
   "outputs": [],
   "source": [
    "template = \"\"\"  <Script>\n",
    "    <Name>{}</Name>\n",
    "    <Description />\n",
    "    <Resource>1734167331516776448</Resource>\n",
    "    <Properties>\n",
    "      <UpdateProperty>\n",
    "        <PropertyID>1729382256910271497</PropertyID>\n",
    "        <Operation>{}</Operation>\n",
    "        <ReferencedResource />\n",
    "      </UpdateProperty>\n",
    "      <UpdateProperty>\n",
    "        <PropertyID>1152921504606850057</PropertyID>\n",
    "        <Operation>{}</Operation>\n",
    "        <ReferencedResource />\n",
    "      </UpdateProperty>\n",
    "    </Properties>\n",
    "    <Where>[Power Resource] = {}</Where>\n",
    "    <Action>Update</Action>\n",
    "    <TimeOfCreated>16:18:58 01/06/2022</TimeOfCreated>\n",
    "  </Script>\"\"\""
   ]
  },
  {
   "cell_type": "code",
   "execution_count": 14,
   "metadata": {},
   "outputs": [],
   "source": [
    "body = \"\"\"<?xml version=\"1.0\" encoding=\"utf-8\"?>\n",
    "<ArrayOfScript xmlns:xsd=\"http://www.w3.org/2001/XMLSchema\" xmlns:xsi=\"http://www.w3.org/2001/XMLSchema-instance\">\"\"\"\n",
    "for i,x in CT_Breaker_merged.iterrows():\n",
    "    body = body + '\\n'+ template.format('.',x.CurrentTransformerGid, x.CurrentTransformerAorGroup,x.BreakerGid)\n",
    "body = body + '\\n'+ '</ArrayOfScript>'"
   ]
  },
  {
   "cell_type": "code",
   "execution_count": 15,
   "metadata": {},
   "outputs": [],
   "source": [
    "with open('.\\CT2Breaker.xml', 'w+') as xmlFile:\n",
    "    xmlFile.write(body)\n",
    "    xmlFile.close()"
   ]
  },
  {
   "cell_type": "code",
   "execution_count": null,
   "metadata": {},
   "outputs": [],
   "source": [
    "CT_Breaker_merged.to_csv('CT2Breaker.csv',index = False)"
   ]
  },
  {
   "cell_type": "code",
   "execution_count": 7,
   "metadata": {},
   "outputs": [
    {
     "data": {
      "text/html": [
       "<div>\n",
       "<style scoped>\n",
       "    .dataframe tbody tr th:only-of-type {\n",
       "        vertical-align: middle;\n",
       "    }\n",
       "\n",
       "    .dataframe tbody tr th {\n",
       "        vertical-align: top;\n",
       "    }\n",
       "\n",
       "    .dataframe thead th {\n",
       "        text-align: right;\n",
       "    }\n",
       "</style>\n",
       "<table border=\"1\" class=\"dataframe\">\n",
       "  <thead>\n",
       "    <tr style=\"text-align: right;\">\n",
       "      <th></th>\n",
       "      <th>CurrentTransformer_Name</th>\n",
       "      <th>BayGid</th>\n",
       "      <th>CurrentTransformerGid</th>\n",
       "      <th>BreakerGid</th>\n",
       "      <th>BreakerAorGroup</th>\n",
       "      <th>Transmision</th>\n",
       "    </tr>\n",
       "  </thead>\n",
       "  <tbody>\n",
       "    <tr>\n",
       "      <th>5</th>\n",
       "      <td>CT-T330</td>\n",
       "      <td>288793334695460424</td>\n",
       "      <td>288793450659568986</td>\n",
       "      <td>288793682587818545</td>\n",
       "      <td>292171438142522516</td>\n",
       "      <td>288793888745848839</td>\n",
       "    </tr>\n",
       "    <tr>\n",
       "      <th>10</th>\n",
       "      <td>CT-TA13</td>\n",
       "      <td>1318147324526327731</td>\n",
       "      <td>1318147440490436973</td>\n",
       "      <td>1318147672418686046</td>\n",
       "      <td>292171438142522569</td>\n",
       "      <td>288793888745848839</td>\n",
       "    </tr>\n",
       "    <tr>\n",
       "      <th>23</th>\n",
       "      <td>CT-T34</td>\n",
       "      <td>288793334695460441</td>\n",
       "      <td>288793450659568997</td>\n",
       "      <td>288793682587818559</td>\n",
       "      <td>289075213398705578</td>\n",
       "      <td>288793888745848839</td>\n",
       "    </tr>\n",
       "    <tr>\n",
       "      <th>30</th>\n",
       "      <td>CT-G33</td>\n",
       "      <td>1318147324526327721</td>\n",
       "      <td>1318147440490436962</td>\n",
       "      <td>1318147672418686042</td>\n",
       "      <td>292171438142522569</td>\n",
       "      <td>288793888745848839</td>\n",
       "    </tr>\n",
       "    <tr>\n",
       "      <th>38</th>\n",
       "      <td>CT-G31</td>\n",
       "      <td>1318147324526327718</td>\n",
       "      <td>1318147440490436964</td>\n",
       "      <td>1318147672418686039</td>\n",
       "      <td>292171438142522569</td>\n",
       "      <td>288793888745848839</td>\n",
       "    </tr>\n",
       "    <tr>\n",
       "      <th>...</th>\n",
       "      <td>...</td>\n",
       "      <td>...</td>\n",
       "      <td>...</td>\n",
       "      <td>...</td>\n",
       "      <td>...</td>\n",
       "      <td>...</td>\n",
       "    </tr>\n",
       "    <tr>\n",
       "      <th>2221</th>\n",
       "      <td>CT-T180</td>\n",
       "      <td>288793334695461326</td>\n",
       "      <td>288793450659569526</td>\n",
       "      <td>288793682587819210</td>\n",
       "      <td>292171438142522516</td>\n",
       "      <td>288793888745848839</td>\n",
       "    </tr>\n",
       "    <tr>\n",
       "      <th>2222</th>\n",
       "      <td>CT-4L11</td>\n",
       "      <td>751256721431066797</td>\n",
       "      <td>751256837395175984</td>\n",
       "      <td>751257069323425538</td>\n",
       "      <td>292171438142522515</td>\n",
       "      <td>288793888745848839</td>\n",
       "    </tr>\n",
       "    <tr>\n",
       "      <th>2225</th>\n",
       "      <td>CT-L190</td>\n",
       "      <td>288793334695459388</td>\n",
       "      <td>288793450659569376</td>\n",
       "      <td>288793682587817576</td>\n",
       "      <td>292171438142522561</td>\n",
       "      <td>288793888745848839</td>\n",
       "    </tr>\n",
       "    <tr>\n",
       "      <th>2229</th>\n",
       "      <td>CT-T240</td>\n",
       "      <td>288793334695461315</td>\n",
       "      <td>288793450659569522</td>\n",
       "      <td>288793682587819194</td>\n",
       "      <td>292171438142522516</td>\n",
       "      <td>288793888745848839</td>\n",
       "    </tr>\n",
       "    <tr>\n",
       "      <th>2231</th>\n",
       "      <td>CT-U16</td>\n",
       "      <td>288793334695459305</td>\n",
       "      <td>288793450659568367</td>\n",
       "      <td>288793682587817511</td>\n",
       "      <td>289075213398705530</td>\n",
       "      <td>288793888745848839</td>\n",
       "    </tr>\n",
       "  </tbody>\n",
       "</table>\n",
       "<p>778 rows × 6 columns</p>\n",
       "</div>"
      ],
      "text/plain": [
       "     CurrentTransformer_Name               BayGid CurrentTransformerGid  \\\n",
       "5                    CT-T330   288793334695460424    288793450659568986   \n",
       "10                   CT-TA13  1318147324526327731   1318147440490436973   \n",
       "23                    CT-T34   288793334695460441    288793450659568997   \n",
       "30                    CT-G33  1318147324526327721   1318147440490436962   \n",
       "38                    CT-G31  1318147324526327718   1318147440490436964   \n",
       "...                      ...                  ...                   ...   \n",
       "2221                 CT-T180   288793334695461326    288793450659569526   \n",
       "2222                 CT-4L11   751256721431066797    751256837395175984   \n",
       "2225                 CT-L190   288793334695459388    288793450659569376   \n",
       "2229                 CT-T240   288793334695461315    288793450659569522   \n",
       "2231                  CT-U16   288793334695459305    288793450659568367   \n",
       "\n",
       "               BreakerGid     BreakerAorGroup         Transmision  \n",
       "5      288793682587818545  292171438142522516  288793888745848839  \n",
       "10    1318147672418686046  292171438142522569  288793888745848839  \n",
       "23     288793682587818559  289075213398705578  288793888745848839  \n",
       "30    1318147672418686042  292171438142522569  288793888745848839  \n",
       "38    1318147672418686039  292171438142522569  288793888745848839  \n",
       "...                   ...                 ...                 ...  \n",
       "2221   288793682587819210  292171438142522516  288793888745848839  \n",
       "2222   751257069323425538  292171438142522515  288793888745848839  \n",
       "2225   288793682587817576  292171438142522561  288793888745848839  \n",
       "2229   288793682587819194  292171438142522516  288793888745848839  \n",
       "2231   288793682587817511  289075213398705530  288793888745848839  \n",
       "\n",
       "[778 rows x 6 columns]"
      ]
     },
     "execution_count": 7,
     "metadata": {},
     "output_type": "execute_result"
    }
   ],
   "source": [
    "CT_Breaker[CT_Breaker.Transmision.notnull()]#_merged"
   ]
  },
  {
   "cell_type": "code",
   "execution_count": null,
   "metadata": {},
   "outputs": [],
   "source": [
    "conn_inteligrid = pyodbc.connect('Driver={SQL Server}; Server=10.241.109.41,20010\\\\OASYSHDB;Database=EPSA_Reporting;UID=cons_intelligrid; PWD=grid#2021;')"
   ]
  }
 ],
 "metadata": {
  "interpreter": {
   "hash": "893630ece985437a4d09eac5a1997315286d44e415eee02814b32317a12ecdc6"
  },
  "kernelspec": {
   "display_name": "Python 3.8.3 ('base')",
   "language": "python",
   "name": "python3"
  },
  "language_info": {
   "codemirror_mode": {
    "name": "ipython",
    "version": 3
   },
   "file_extension": ".py",
   "mimetype": "text/x-python",
   "name": "python",
   "nbconvert_exporter": "python",
   "pygments_lexer": "ipython3",
   "version": "3.8.3"
  },
  "orig_nbformat": 4
 },
 "nbformat": 4,
 "nbformat_minor": 2
}
