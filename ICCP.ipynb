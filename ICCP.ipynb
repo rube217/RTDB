{
 "cells": [
  {
   "cell_type": "code",
   "execution_count": 2,
   "metadata": {},
   "outputs": [],
   "source": [
    "import xml.etree.ElementTree as ET, pandas as pd\n",
    "from tkinter.filedialog import askdirectory, askopenfilename"
   ]
  },
  {
   "cell_type": "code",
   "execution_count": null,
   "metadata": {},
   "outputs": [],
   "source": [
    "xml_file = askopenfilename()\n",
    "tree = ET.parse(xml_file)\n",
    "root = tree.getroot()"
   ]
  },
  {
   "cell_type": "code",
   "execution_count": null,
   "metadata": {},
   "outputs": [],
   "source": [
    "LocalDataValues = root[0][4][0]\n",
    "Ldv = []\n",
    "for ldv in LocalDataValues:\n",
    "    Ldv.append(ldv[0].text)"
   ]
  },
  {
   "cell_type": "code",
   "execution_count": null,
   "metadata": {},
   "outputs": [],
   "source": [
    "ServerDataValues = root[0][5][0][4][8]\n",
    "#Sdv = []\n",
    "for sdv in ServerDataValues:\n",
    "    if not(sdv[0].text in Ldv):\n",
    "        LocalDataValues.attrib.update({'Count':str(int(LocalDataValues.attrib['Count'])+1)})\n",
    "        new_ldv = LocalDataValues.makeelement('Ldv',{})\n",
    "        ET.SubElement(new_ldv,'Name',{}).text = sdv[0].text\n",
    "        ET.SubElement(new_ldv,'DataType',{}).text = sdv[1].text\n",
    "        ET.SubElement(new_ldv,'NormalSource',{}).text = 'Telemetered'\n",
    "        LocalDataValues.append(new_ldv)\n",
    "        #Sdv.append({'Name':sdv[0].text,'DataType':sdv[1].text,'NormalSource':'Telemetered'})\n",
    "\n",
    "tree.write('ICCP_PDS_2.xml')"
   ]
  },
  {
   "cell_type": "code",
   "execution_count": 2,
   "metadata": {},
   "outputs": [
    {
     "name": "stderr",
     "output_type": "stream",
     "text": [
      "c:\\Users\\rdjaramillo\\Anaconda3\\envs\\Test\\lib\\site-packages\\IPython\\core\\interactiveshell.py:3135: DtypeWarning: Columns (8,23) have mixed types.Specify dtype option on import or set low_memory=False.\n",
      "  has_raised = await self.run_ast_nodes(code_ast.body, cell_name,\n"
     ]
    }
   ],
   "source": [
    "CustomerData1 = pd.read_csv(askopenfilename(),sep=\"|\")"
   ]
  },
  {
   "cell_type": "code",
   "execution_count": null,
   "metadata": {},
   "outputs": [],
   "source": [
    "CustomerData2 = pd.read_csv(askopenfilename(),sep=\"|\")"
   ]
  },
  {
   "cell_type": "code",
   "execution_count": 42,
   "metadata": {},
   "outputs": [],
   "source": [
    "s_ini = \"\"\"<?xml version=\"1.0\" encoding=\"utf-8\"?>\n",
    "<ArrayOfScript xmlns:xsd=\"http://www.w3.org/2001/XMLSchema\" xmlns:xsi=\"http://www.w3.org/2001/XMLSchema-instance\">\"\"\"\n",
    "## s.format(id,Alias, AorGroup, NameSignal, Generador)\n",
    "s = \"\"\" \n",
    "  <Script>\n",
    "    <Name>SourceStatus{}</Name>\n",
    "    <Description />\n",
    "    <Resource>1734448806493552640</Resource>\n",
    "    <Properties>\n",
    "      <UpdateProperty>\n",
    "        <PropertyID>1152921504606848519</PropertyID>\n",
    "        <Operation>{}</Operation>\n",
    "      </UpdateProperty>\n",
    "      <UpdateProperty>\n",
    "        <PropertyID>1733885856537641737</PropertyID>\n",
    "      </UpdateProperty>\n",
    "      <UpdateProperty>\n",
    "        <PropertyID>1152921504606850057</PropertyID>\n",
    "        <Operation>{}</Operation>\n",
    "      </UpdateProperty>\n",
    "      <UpdateProperty>\n",
    "        <PropertyID>1152921504606847748</PropertyID>\n",
    "      </UpdateProperty>\n",
    "      <UpdateProperty>\n",
    "        <PropertyID>1152921504606848775</PropertyID>\n",
    "      </UpdateProperty>\n",
    "      <UpdateProperty>\n",
    "        <PropertyID>1152921504606849289</PropertyID>\n",
    "      </UpdateProperty>\n",
    "      <UpdateProperty>\n",
    "        <PropertyID>1152921504606850314</PropertyID>\n",
    "        <Operation>Manual</Operation>\n",
    "      </UpdateProperty>\n",
    "      <UpdateProperty>\n",
    "        <PropertyID>1733885856537641482</PropertyID>\n",
    "        <Operation>ReadWrite</Operation>\n",
    "      </UpdateProperty>\n",
    "      <UpdateProperty>\n",
    "        <PropertyID>1729382256910272010</PropertyID>\n",
    "        <Operation>Default</Operation>\n",
    "      </UpdateProperty>\n",
    "      <UpdateProperty>\n",
    "        <PropertyID>1152921504606912257</PropertyID>\n",
    "        <Operation>True</Operation>\n",
    "      </UpdateProperty>\n",
    "      <UpdateProperty>\n",
    "        <PropertyID>1152921504606847492</PropertyID>\n",
    "      </UpdateProperty>\n",
    "      <UpdateProperty>\n",
    "        <PropertyID>1729382256910271242</PropertyID>\n",
    "        <Operation>Status</Operation>\n",
    "      </UpdateProperty>\n",
    "      <UpdateProperty>\n",
    "        <PropertyID>1734448806493553673</PropertyID>\n",
    "        <Operation>751820113765728281</Operation>\n",
    "      </UpdateProperty>\n",
    "      <UpdateProperty>\n",
    "        <PropertyID>1152921504606848007</PropertyID>\n",
    "        <Operation>{}</Operation>\n",
    "      </UpdateProperty>\n",
    "      <UpdateProperty>\n",
    "        <PropertyID>1734448806493553923</PropertyID>\n",
    "        <Operation>2</Operation>\n",
    "      </UpdateProperty>\n",
    "      <UpdateProperty>\n",
    "        <PropertyID>1729382256910270986</PropertyID>\n",
    "        <Operation>ABC</Operation>\n",
    "      </UpdateProperty>\n",
    "      <UpdateProperty>\n",
    "        <PropertyID>1729382256910271497</PropertyID>\n",
    "        <Operation>{}</Operation>\n",
    "      </UpdateProperty>\n",
    "      <UpdateProperty>\n",
    "        <PropertyID>1729382256910271754</PropertyID>\n",
    "        <Operation>None</Operation>\n",
    "      </UpdateProperty>\n",
    "      <UpdateProperty>\n",
    "        <PropertyID>1734448806493553418</PropertyID>\n",
    "        <Operation>SourceStatus</Operation>\n",
    "      </UpdateProperty>\n",
    "      <UpdateProperty>\n",
    "        <PropertyID>1152921504606850580</PropertyID>\n",
    "      </UpdateProperty>\n",
    "    </Properties>\n",
    "    <Where />\n",
    "    <Action>Insert</Action>\n",
    "    <TimeOfCreated>18:01:55 25/06/2022</TimeOfCreated>\n",
    "  </Script>\n",
    "\"\"\"\n",
    "s_fin = \"</ArrayOfScript>\""
   ]
  },
  {
   "cell_type": "code",
   "execution_count": 3,
   "metadata": {},
   "outputs": [],
   "source": [
    "import pyodbc"
   ]
  },
  {
   "cell_type": "code",
   "execution_count": 4,
   "metadata": {},
   "outputs": [],
   "source": [
    "#conn_prod = pyodbc.connect('Driver={SQL Server}; Server=10.241.109.41,20010\\\\OASYSHDB;Database=EPSA_Reporting;UID=epsareportes; PWD=Epsa.2020!;')\n",
    "conn_dev = pyodbc.connect('Driver={SQL Server}; Server=10.241.114.12,20010\\\\OASYSHDB;Database=ADMS_QueryEngine;UID=Epsareportes; PWD=cmXoasys2;')"
   ]
  },
  {
   "cell_type": "code",
   "execution_count": 7,
   "metadata": {},
   "outputs": [],
   "source": [
    "Generators = pd.read_sql_query(\"Select S.customId as SubCID, SM.gid as GeneratorGid, SM.aorGroup as AorGroup, SM.customId as Alias from ADMS_QueryEngine.DMS.SynchronousMachine as SM join ADMS_QueryEngine.DMS.Substation as S ON SM.container = S.gid where SM.islandOperation = 0\",conn_dev,coerce_float=False)"
   ]
  },
  {
   "cell_type": "code",
   "execution_count": 35,
   "metadata": {},
   "outputs": [],
   "source": [
    "Generators['NameSignal'] = Generators.SubCID.str.split('-|:',expand=True)[2] + \"_SourceStatusSignal_\"+ Generators.Alias.str.rsplit('_',1,expand=True)[1] #Generators.Alias.str.rsplit('-|_',expand=True)\n"
   ]
  },
  {
   "cell_type": "code",
   "execution_count": 43,
   "metadata": {},
   "outputs": [],
   "source": [
    "Generators['NameSignal'] = Generators['NameSignal'].fillna(\"SourceStatus\")\n",
    "Generators['Alias'] = 'SourceStatus para ' + Generators.Alias\n"
   ]
  },
  {
   "cell_type": "code",
   "execution_count": 50,
   "metadata": {},
   "outputs": [],
   "source": [
    "Generators\n",
    "scripts = \"\"\n",
    "with open('SourceStatusSignal.xml','w+') as file:\n",
    "    for i,x in Generators.iterrows():\n",
    "        scripts += s.format(i,x.Alias, x.AorGroup, x.NameSignal, x.GeneratorGid) \n",
    "\n",
    "    text = s_ini+scripts+s_fin\n",
    "    file.write(text)       \n",
    "file.close()"
   ]
  },
  {
   "cell_type": "code",
   "execution_count": null,
   "metadata": {},
   "outputs": [],
   "source": []
  }
 ],
 "metadata": {
  "kernelspec": {
   "display_name": "Python 3.8.3 ('base')",
   "language": "python",
   "name": "python3"
  },
  "language_info": {
   "codemirror_mode": {
    "name": "ipython",
    "version": 3
   },
   "file_extension": ".py",
   "mimetype": "text/x-python",
   "name": "python",
   "nbconvert_exporter": "python",
   "pygments_lexer": "ipython3",
   "version": "3.8.3"
  },
  "orig_nbformat": 4,
  "vscode": {
   "interpreter": {
    "hash": "893630ece985437a4d09eac5a1997315286d44e415eee02814b32317a12ecdc6"
   }
  }
 },
 "nbformat": 4,
 "nbformat_minor": 2
}
