{
 "cells": [
  {
   "cell_type": "code",
   "execution_count": 43,
   "metadata": {},
   "outputs": [],
   "source": [
    "import xml.etree.ElementTree as ET\n",
    "from tkinter.filedialog import askdirectory, askopenfilename\n"
   ]
  },
  {
   "cell_type": "code",
   "execution_count": 44,
   "metadata": {},
   "outputs": [],
   "source": [
    "xml_file = askopenfilename()\n",
    "tree = ET.parse(xml_file)\n",
    "root = tree.getroot()"
   ]
  },
  {
   "cell_type": "code",
   "execution_count": 45,
   "metadata": {},
   "outputs": [],
   "source": [
    "LocalDataValues = root[0][4][0]\n",
    "Ldv = []\n",
    "for ldv in LocalDataValues:\n",
    "    Ldv.append(ldv[0].text)"
   ]
  },
  {
   "cell_type": "code",
   "execution_count": 46,
   "metadata": {},
   "outputs": [],
   "source": [
    "ServerDataValues = root[0][5][0][4][8]\n",
    "#Sdv = []\n",
    "for sdv in ServerDataValues:\n",
    "    if not(sdv[0].text in Ldv):\n",
    "        LocalDataValues.attrib.update({'Count':str(int(LocalDataValues.attrib['Count'])+1)})\n",
    "        new_ldv = LocalDataValues.makeelement('Ldv',{})\n",
    "        ET.SubElement(new_ldv,'Name',{}).text = sdv[0].text\n",
    "        ET.SubElement(new_ldv,'DataType',{}).text = sdv[1].text\n",
    "        ET.SubElement(new_ldv,'NormalSource',{}).text = 'Telemetered'\n",
    "        LocalDataValues.append(new_ldv)\n",
    "        #Sdv.append({'Name':sdv[0].text,'DataType':sdv[1].text,'NormalSource':'Telemetered'})\n",
    "\n",
    "tree.write('ICCP_PDS_2.xml')"
   ]
  },
  {
   "cell_type": "code",
   "execution_count": null,
   "metadata": {},
   "outputs": [],
   "source": []
  }
 ],
 "metadata": {
  "interpreter": {
   "hash": "893630ece985437a4d09eac5a1997315286d44e415eee02814b32317a12ecdc6"
  },
  "kernelspec": {
   "display_name": "Python 3.8.3 ('base')",
   "language": "python",
   "name": "python3"
  },
  "language_info": {
   "codemirror_mode": {
    "name": "ipython",
    "version": 3
   },
   "file_extension": ".py",
   "mimetype": "text/x-python",
   "name": "python",
   "nbconvert_exporter": "python",
   "pygments_lexer": "ipython3",
   "version": "3.8.3"
  },
  "orig_nbformat": 4
 },
 "nbformat": 4,
 "nbformat_minor": 2
}
